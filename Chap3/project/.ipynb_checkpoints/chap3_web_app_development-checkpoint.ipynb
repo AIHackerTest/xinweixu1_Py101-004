{
 "cells": [
  {
   "cell_type": "markdown",
   "metadata": {},
   "source": [
    "### Chap 3 Web 应用开发 - 实现内网版天气查询系统\n",
    "#### 卡片知识点列表：\n",
    "* 什么是Web开发？\n",
    "* Web 框架Flask\n",
    "* 利用HTML, CSS制作网页\n",
    "* 使用Flask与浏览器交互 (MVC模式)\n",
    "\n",
    "#### Web 开发的阶段：\n",
    "* 静态Web页面：由文本编辑器直接编辑并生成静态的HTML页面，无用户交互\n",
    "* Common Gateway Interface (CGI)：由C／C++编写的交互页面\n",
    "* ASP/JSP/PHP：由开发效率较高的脚本语言编写的交互页面，与HTML结合紧密，可以实现对网页的频繁修改\n",
    "* Model-View-Controller (MVC)：由脚本语言模式衍生的简化web开发模式，解决了用脚本语言嵌入HTML导致的可维护性差的问题，常见的MVC框架有[ASP.NET](https://en.wikipedia.org/wiki/ASP.NET), 以及基于Python的[Django](https://en.wikipedia.org/wiki/Django_(web_framework))和[Flask](http://flask.pocoo.org/docs/0.12/)\n",
    "\n",
    "#### MVC模式的交互流程\n",
    "```java\n",
    "+---------+ request   +-----------+  read      +----------+\n",
    "|web      |---------> |web        | ---------> |data base |\n",
    "|explorer |           |framework  |            |(API)     |\n",
    "|         |<--------- |(Flask)    | <--------- |          |\n",
    "+---------+ viewer    +-----------+  write     +----------+\n",
    "```\n",
    "##### HTTP Request Methods：`GET` & `POST`"
   ]
  },
  {
   "cell_type": "markdown",
   "metadata": {},
   "source": [
    "#### 使用Flask完成的Web APP 示例\n",
    " * 创建\"Hello World!\" HTML页面"
   ]
  },
  {
   "cell_type": "code",
   "execution_count": null,
   "metadata": {
    "collapsed": true
   },
   "outputs": [],
   "source": [
    "from flask import Flask\n",
    "app = Flask(__name__)\n",
    "\n",
    "@app.route(\"/\") \n",
    "#use the route() decorator to tell Flask what URL should trigger our function\n",
    "def hello():\n",
    "    return \"Hello World!\"\n",
    "\n",
    "if __name__ == \"__main__\":\n",
    "    app.run()\n"
   ]
  },
  {
   "cell_type": "markdown",
   "metadata": {},
   "source": [
    "#### 天气查询Web App开发拆解：\n",
    "* 搭建基本html页面"
   ]
  },
  {
   "cell_type": "code",
   "execution_count": null,
   "metadata": {},
   "outputs": [
    {
     "name": "stderr",
     "output_type": "stream",
     "text": [
      " * Running on http://127.0.0.1:5000/ (Press CTRL+C to quit)\n",
      "127.0.0.1 - - [04/Sep/2017 11:18:50] \"GET / HTTP/1.1\" 200 -\n",
      "127.0.0.1 - - [04/Sep/2017 11:18:58] \"GET /help HTTP/1.1\" 200 -\n",
      "127.0.0.1 - - [04/Sep/2017 11:28:27] \"GET / HTTP/1.1\" 200 -\n",
      "127.0.0.1 - - [04/Sep/2017 11:28:50] \"GET / HTTP/1.1\" 200 -\n"
     ]
    }
   ],
   "source": [
    "from flask import Flask\n",
    "\n",
    "app = Flask(__name__)\n",
    "\n",
    "@app.route('/help')\n",
    "def help_info():\n",
    "    return 'The help information'\n",
    "\n",
    "@app.route('/',  methods=['GET', 'POST'])\n",
    "def home_page():\n",
    "    return 'The Weather Info Wizard'\n",
    "\n",
    "@app.route('/weather/<city_name>')\n",
    "def city_weather(city_name, weather_info):\n",
    "    return 'The weather of %s is %s' %(city_name, weather_info)\n",
    "\n",
    "@app.route('/history')\n",
    "def history():\n",
    "    return 'Here is your search history: '\n",
    "\n",
    "if __name__ == '__main__':\n",
    "    app.run()\n",
    "\n"
   ]
  },
  {
   "cell_type": "markdown",
   "metadata": {},
   "source": [
    "* 使用模版搭建html页面"
   ]
  },
  {
   "cell_type": "code",
   "execution_count": 1,
   "metadata": {},
   "outputs": [
    {
     "ename": "IndentationError",
     "evalue": "unexpected indent (<ipython-input-1-a1f926373296>, line 17)",
     "output_type": "error",
     "traceback": [
      "\u001b[0;36m  File \u001b[0;32m\"<ipython-input-1-a1f926373296>\"\u001b[0;36m, line \u001b[0;32m17\u001b[0m\n\u001b[0;31m    if cityname in city_dict.keys():\u001b[0m\n\u001b[0m    ^\u001b[0m\n\u001b[0;31mIndentationError\u001b[0m\u001b[0;31m:\u001b[0m unexpected indent\n"
     ]
    }
   ],
   "source": [
    "from flask import Flask, request, render_template\n",
    "from ch2_weather_api import city_dict, request_url, retrieve_weather_info\n",
    "\n",
    "app = Flask(__name__)\n",
    "\n",
    "@app.route('/help')\n",
    "def help_info():\n",
    "    return 'The help information'\n",
    "\n",
    "@app.route('/',  methods=['GET'])\n",
    "def home_page():\n",
    "    return render_template('home_page.html')\n",
    "\n",
    "@app.route('/',  methods=['POST'])\n",
    "def home_input():\n",
    "    cityname = request.form['cityname']\n",
    "    if cityname in city_dict.keys():\n",
    "        return render_template('city_weather.html', cityname==cityname)\n",
    "    return render_template('home_page.html', \n",
    "                           message=\"\"\"\n",
    "                           Sorry, we couldn't find the city you enterd.\n",
    "                           Please try again!\n",
    "                           \"\"\")\n",
    "\n",
    "@app.route('/weather/<city_name>')\n",
    "def city_weather(city_name, weather_info):\n",
    "    return 'The weather of %s is %s' %(city_name, weather_info)\n",
    "\n",
    "@app.route('/history')\n",
    "def history():\n",
    "    return 'Here is your search history: '\n",
    "\n",
    "\n",
    "\n",
    "\n",
    "\n",
    "if __name__ == '__main__':\n",
    "    app.run()\n"
   ]
  },
  {
   "cell_type": "markdown",
   "metadata": {},
   "source": [
    "### References:\n",
    "* [Web的开发－廖雪峰的官方网站](https://www.liaoxuefeng.com/wiki/0014316089557264a6b348958f449949df42a6d3a2e542c000/0014320118765877e93ecea4e6449acb157e9efae8b40b6000)\n",
    "* [What is a Web Framework? - Jeff Knupp](https://jeffknupp.com/blog/2014/03/03/what-is-a-web-framework/)\n",
    "* [Flask Documentation](http://flask.pocoo.org/docs/0.12/)\n"
   ]
  },
  {
   "cell_type": "code",
   "execution_count": null,
   "metadata": {
    "collapsed": true
   },
   "outputs": [],
   "source": []
  }
 ],
 "metadata": {
  "kernelspec": {
   "display_name": "Python 3",
   "language": "python",
   "name": "python3"
  },
  "language_info": {
   "codemirror_mode": {
    "name": "ipython",
    "version": 3
   },
   "file_extension": ".py",
   "mimetype": "text/x-python",
   "name": "python",
   "nbconvert_exporter": "python",
   "pygments_lexer": "ipython3",
   "version": "3.5.2"
  }
 },
 "nbformat": 4,
 "nbformat_minor": 1
}
