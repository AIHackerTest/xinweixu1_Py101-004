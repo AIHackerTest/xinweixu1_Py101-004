{
 "cells": [
  {
   "cell_type": "markdown",
   "metadata": {},
   "source": [
    "### Chap 3 Web 应用开发 - 实现内网版天气查询系统\n",
    "#### 卡片知识点列表：\n",
    "* 什么是Web开发？\n",
    "* Web 框架Flask\n",
    "* 利用HTML, CSS制作网页\n",
    "* 使用Flask与浏览器交互\n",
    "\n",
    "#### Web 开发的阶段：\n",
    "* 静态Web页面：由文本编辑器直接编辑并生成静态的HTML页面，无用户交互\n",
    "* Common Gateway Interface (CGI)：由C／C++编写的交互页面\n",
    "* ASP/JSP/PHP：由开发效率较高的脚本语言编写的交互页面，与HTML结合紧密，可以实现对网页的频繁修改\n",
    "* Model-View-Controller (MVC)：由脚本语言模式衍生的简化web开发模式，解决了用脚本语言嵌入HTML导致的可维护性差的问题，常见的MVC框架有[ASP.NET](https://en.wikipedia.org/wiki/ASP.NET), 以及基于Python的[Django](https://en.wikipedia.org/wiki/Django_(web_framework))\n"
   ]
  },
  {
   "cell_type": "markdown",
   "metadata": {},
   "source": [
    "#### 使用Flask完成的Web APP 示例"
   ]
  },
  {
   "cell_type": "code",
   "execution_count": null,
   "metadata": {
    "collapsed": true
   },
   "outputs": [],
   "source": [
    "from flask import Flask\n",
    "app = Flask(__name__)\n",
    "\n",
    "@app.route(\"/\") \n",
    "#use the route() decorator to tell Flask what URL should trigger our function\n",
    "def hello():\n",
    "    return \"Hello World!\"\n",
    "\n",
    "if __name__ == \"__main__\":\n",
    "    app.run()\n"
   ]
  },
  {
   "cell_type": "code",
   "execution_count": null,
   "metadata": {
    "scrolled": true
   },
   "outputs": [
    {
     "name": "stderr",
     "output_type": "stream",
     "text": [
      " * Running on http://127.0.0.1:5000/ (Press CTRL+C to quit)\n",
      "127.0.0.1 - - [30/Aug/2017 22:39:01] \"GET / HTTP/1.1\" 200 -\n",
      "127.0.0.1 - - [30/Aug/2017 22:39:37] \"GET /signin HTTP/1.1\" 200 -\n",
      "127.0.0.1 - - [30/Aug/2017 22:40:01] \"POST /signin HTTP/1.1\" 200 -\n",
      "127.0.0.1 - - [30/Aug/2017 22:40:33] \"GET /signin HTTP/1.1\" 200 -\n",
      "127.0.0.1 - - [30/Aug/2017 22:40:58] \"POST /signin HTTP/1.1\" 200 -\n",
      "127.0.0.1 - - [30/Aug/2017 22:41:00] \"GET /signin HTTP/1.1\" 200 -\n"
     ]
    }
   ],
   "source": [
    "from flask import Flask\n",
    "from flask import request\n",
    "\n",
    "app = Flask(__name__)\n",
    "\n",
    "@app.route('/', methods=['GET', 'POST'])\n",
    "def home():\n",
    "    return '<h1>Home</h1>'\n",
    "\n",
    "@app.route('/signin', methods=['GET'])\n",
    "def signin_form():\n",
    "    return '''<form action=\"/signin\" method=\"post\">\n",
    "              <p><input name=\"username\"></p>\n",
    "              <p><input name=\"password\" type=\"password\"></p>\n",
    "              <p><button type=\"submit\">Sign In</button></p>\n",
    "              </form>'''\n",
    "\n",
    "@app.route('/signin', methods=['POST'])\n",
    "def signin():\n",
    "    # 需要从request对象读取表单内容：\n",
    "    if request.form['username']=='admin' and request.form['password']=='password':\n",
    "        return '<h3>Hello, admin!</h3>'\n",
    "    return '<h3>Bad username or password.</h3>'\n",
    "\n",
    "if __name__ == '__main__':\n",
    "    app.run()\n"
   ]
  },
  {
   "cell_type": "markdown",
   "metadata": {},
   "source": [
    "### References:\n",
    "* [Web的开发－廖雪峰的官方网站](https://www.liaoxuefeng.com/wiki/0014316089557264a6b348958f449949df42a6d3a2e542c000/0014320118765877e93ecea4e6449acb157e9efae8b40b6000)\n",
    "* [What is a Web Framework? - Jeff Knupp](https://jeffknupp.com/blog/2014/03/03/what-is-a-web-framework/)\n",
    "* [Flask Documentation](http://flask.pocoo.org/docs/0.12/)\n"
   ]
  },
  {
   "cell_type": "code",
   "execution_count": null,
   "metadata": {
    "collapsed": true
   },
   "outputs": [],
   "source": []
  }
 ],
 "metadata": {
  "kernelspec": {
   "display_name": "Python 3",
   "language": "python",
   "name": "python3"
  },
  "language_info": {
   "codemirror_mode": {
    "name": "ipython",
    "version": 3
   },
   "file_extension": ".py",
   "mimetype": "text/x-python",
   "name": "python",
   "nbconvert_exporter": "python",
   "pygments_lexer": "ipython3",
   "version": "3.5.2"
  }
 },
 "nbformat": 4,
 "nbformat_minor": 1
}
